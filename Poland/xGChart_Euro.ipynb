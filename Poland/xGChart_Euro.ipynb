{
 "cells": [
  {
   "cell_type": "code",
   "execution_count": 1,
   "metadata": {},
   "outputs": [],
   "source": [
    "import pandas as pd\n",
    "from statsbombpy import sb\n",
    "from mplsoccer import Sbopen\n",
    "import seaborn as sns\n",
    "import matplotlib.pyplot as plt"
   ]
  },
  {
   "cell_type": "code",
   "execution_count": 2,
   "metadata": {},
   "outputs": [],
   "source": [
    "# Spain vs Poland\n",
    "MATCH_ID = 3788762\n",
    "events = sb.events(match_id = MATCH_ID)"
   ]
  },
  {
   "cell_type": "markdown",
   "metadata": {},
   "source": [
    "Get data"
   ]
  },
  {
   "cell_type": "code",
   "execution_count": 3,
   "metadata": {},
   "outputs": [
    {
     "data": {
      "text/html": [
       "<div>\n",
       "<style scoped>\n",
       "    .dataframe tbody tr th:only-of-type {\n",
       "        vertical-align: middle;\n",
       "    }\n",
       "\n",
       "    .dataframe tbody tr th {\n",
       "        vertical-align: top;\n",
       "    }\n",
       "\n",
       "    .dataframe thead th {\n",
       "        text-align: right;\n",
       "    }\n",
       "</style>\n",
       "<table border=\"1\" class=\"dataframe\">\n",
       "  <thead>\n",
       "    <tr style=\"text-align: right;\">\n",
       "      <th></th>\n",
       "      <th>period</th>\n",
       "      <th>minute</th>\n",
       "      <th>xG</th>\n",
       "      <th>team</th>\n",
       "      <th>player</th>\n",
       "      <th>result</th>\n",
       "      <th>shot_type</th>\n",
       "    </tr>\n",
       "  </thead>\n",
       "  <tbody>\n",
       "    <tr>\n",
       "      <th>3600</th>\n",
       "      <td>1</td>\n",
       "      <td>5</td>\n",
       "      <td>0.025717</td>\n",
       "      <td>Poland</td>\n",
       "      <td>Mateusz Andrzej Klich</td>\n",
       "      <td>Off T</td>\n",
       "      <td>Open Play</td>\n",
       "    </tr>\n",
       "    <tr>\n",
       "      <th>3610</th>\n",
       "      <td>2</td>\n",
       "      <td>53</td>\n",
       "      <td>0.177551</td>\n",
       "      <td>Poland</td>\n",
       "      <td>Robert Lewandowski</td>\n",
       "      <td>Goal</td>\n",
       "      <td>Open Play</td>\n",
       "    </tr>\n",
       "    <tr>\n",
       "      <th>3607</th>\n",
       "      <td>1</td>\n",
       "      <td>41</td>\n",
       "      <td>0.055475</td>\n",
       "      <td>Poland</td>\n",
       "      <td>Karol Świderski</td>\n",
       "      <td>Post</td>\n",
       "      <td>Open Play</td>\n",
       "    </tr>\n",
       "    <tr>\n",
       "      <th>3606</th>\n",
       "      <td>1</td>\n",
       "      <td>34</td>\n",
       "      <td>0.196803</td>\n",
       "      <td>Poland</td>\n",
       "      <td>Karol Świderski</td>\n",
       "      <td>Off T</td>\n",
       "      <td>Open Play</td>\n",
       "    </tr>\n",
       "    <tr>\n",
       "      <th>3608</th>\n",
       "      <td>1</td>\n",
       "      <td>42</td>\n",
       "      <td>0.096711</td>\n",
       "      <td>Poland</td>\n",
       "      <td>Robert Lewandowski</td>\n",
       "      <td>Saved</td>\n",
       "      <td>Open Play</td>\n",
       "    </tr>\n",
       "    <tr>\n",
       "      <th>3605</th>\n",
       "      <td>1</td>\n",
       "      <td>33</td>\n",
       "      <td>0.081536</td>\n",
       "      <td>Spain</td>\n",
       "      <td>Gerard Moreno Balaguero</td>\n",
       "      <td>Off T</td>\n",
       "      <td>Free Kick</td>\n",
       "    </tr>\n",
       "    <tr>\n",
       "      <th>3603</th>\n",
       "      <td>1</td>\n",
       "      <td>24</td>\n",
       "      <td>0.029604</td>\n",
       "      <td>Spain</td>\n",
       "      <td>Gerard Moreno Balaguero</td>\n",
       "      <td>Blocked</td>\n",
       "      <td>Open Play</td>\n",
       "    </tr>\n",
       "    <tr>\n",
       "      <th>3602</th>\n",
       "      <td>1</td>\n",
       "      <td>12</td>\n",
       "      <td>0.015647</td>\n",
       "      <td>Spain</td>\n",
       "      <td>Pau Francisco Torres</td>\n",
       "      <td>Off T</td>\n",
       "      <td>Open Play</td>\n",
       "    </tr>\n",
       "    <tr>\n",
       "      <th>3615</th>\n",
       "      <td>2</td>\n",
       "      <td>83</td>\n",
       "      <td>0.481273</td>\n",
       "      <td>Spain</td>\n",
       "      <td>Álvaro Borja Morata Martín</td>\n",
       "      <td>Saved</td>\n",
       "      <td>Open Play</td>\n",
       "    </tr>\n",
       "    <tr>\n",
       "      <th>3609</th>\n",
       "      <td>1</td>\n",
       "      <td>44</td>\n",
       "      <td>0.140010</td>\n",
       "      <td>Spain</td>\n",
       "      <td>Gerard Moreno Balaguero</td>\n",
       "      <td>Off T</td>\n",
       "      <td>Open Play</td>\n",
       "    </tr>\n",
       "    <tr>\n",
       "      <th>3601</th>\n",
       "      <td>1</td>\n",
       "      <td>9</td>\n",
       "      <td>0.008206</td>\n",
       "      <td>Spain</td>\n",
       "      <td>Daniel Olmo Carvajal</td>\n",
       "      <td>Saved</td>\n",
       "      <td>Open Play</td>\n",
       "    </tr>\n",
       "    <tr>\n",
       "      <th>3611</th>\n",
       "      <td>2</td>\n",
       "      <td>57</td>\n",
       "      <td>0.783500</td>\n",
       "      <td>Spain</td>\n",
       "      <td>Gerard Moreno Balaguero</td>\n",
       "      <td>Post</td>\n",
       "      <td>Penalty</td>\n",
       "    </tr>\n",
       "    <tr>\n",
       "      <th>3612</th>\n",
       "      <td>2</td>\n",
       "      <td>57</td>\n",
       "      <td>0.338071</td>\n",
       "      <td>Spain</td>\n",
       "      <td>Álvaro Borja Morata Martín</td>\n",
       "      <td>Off T</td>\n",
       "      <td>Open Play</td>\n",
       "    </tr>\n",
       "    <tr>\n",
       "      <th>3613</th>\n",
       "      <td>2</td>\n",
       "      <td>64</td>\n",
       "      <td>0.047418</td>\n",
       "      <td>Spain</td>\n",
       "      <td>Álvaro Borja Morata Martín</td>\n",
       "      <td>Saved</td>\n",
       "      <td>Open Play</td>\n",
       "    </tr>\n",
       "    <tr>\n",
       "      <th>3614</th>\n",
       "      <td>2</td>\n",
       "      <td>80</td>\n",
       "      <td>0.062174</td>\n",
       "      <td>Spain</td>\n",
       "      <td>Rodrigo Hernández Cascante</td>\n",
       "      <td>Saved</td>\n",
       "      <td>Open Play</td>\n",
       "    </tr>\n",
       "    <tr>\n",
       "      <th>3604</th>\n",
       "      <td>1</td>\n",
       "      <td>24</td>\n",
       "      <td>0.583779</td>\n",
       "      <td>Spain</td>\n",
       "      <td>Álvaro Borja Morata Martín</td>\n",
       "      <td>Goal</td>\n",
       "      <td>Open Play</td>\n",
       "    </tr>\n",
       "    <tr>\n",
       "      <th>3616</th>\n",
       "      <td>2</td>\n",
       "      <td>83</td>\n",
       "      <td>0.043655</td>\n",
       "      <td>Spain</td>\n",
       "      <td>Ferrán Torres García</td>\n",
       "      <td>Off T</td>\n",
       "      <td>Open Play</td>\n",
       "    </tr>\n",
       "  </tbody>\n",
       "</table>\n",
       "</div>"
      ],
      "text/plain": [
       "      period  minute        xG    team                      player   result  \\\n",
       "3600       1       5  0.025717  Poland       Mateusz Andrzej Klich    Off T   \n",
       "3610       2      53  0.177551  Poland          Robert Lewandowski     Goal   \n",
       "3607       1      41  0.055475  Poland             Karol Świderski     Post   \n",
       "3606       1      34  0.196803  Poland             Karol Świderski    Off T   \n",
       "3608       1      42  0.096711  Poland          Robert Lewandowski    Saved   \n",
       "3605       1      33  0.081536   Spain     Gerard Moreno Balaguero    Off T   \n",
       "3603       1      24  0.029604   Spain     Gerard Moreno Balaguero  Blocked   \n",
       "3602       1      12  0.015647   Spain        Pau Francisco Torres    Off T   \n",
       "3615       2      83  0.481273   Spain  Álvaro Borja Morata Martín    Saved   \n",
       "3609       1      44  0.140010   Spain     Gerard Moreno Balaguero    Off T   \n",
       "3601       1       9  0.008206   Spain        Daniel Olmo Carvajal    Saved   \n",
       "3611       2      57  0.783500   Spain     Gerard Moreno Balaguero     Post   \n",
       "3612       2      57  0.338071   Spain  Álvaro Borja Morata Martín    Off T   \n",
       "3613       2      64  0.047418   Spain  Álvaro Borja Morata Martín    Saved   \n",
       "3614       2      80  0.062174   Spain  Rodrigo Hernández Cascante    Saved   \n",
       "3604       1      24  0.583779   Spain  Álvaro Borja Morata Martín     Goal   \n",
       "3616       2      83  0.043655   Spain        Ferrán Torres García    Off T   \n",
       "\n",
       "      shot_type  \n",
       "3600  Open Play  \n",
       "3610  Open Play  \n",
       "3607  Open Play  \n",
       "3606  Open Play  \n",
       "3608  Open Play  \n",
       "3605  Free Kick  \n",
       "3603  Open Play  \n",
       "3602  Open Play  \n",
       "3615  Open Play  \n",
       "3609  Open Play  \n",
       "3601  Open Play  \n",
       "3611    Penalty  \n",
       "3612  Open Play  \n",
       "3613  Open Play  \n",
       "3614  Open Play  \n",
       "3604  Open Play  \n",
       "3616  Open Play  "
      ]
     },
     "execution_count": 3,
     "metadata": {},
     "output_type": "execute_result"
    }
   ],
   "source": [
    "df = events[events.type == 'Shot']\n",
    "df = df[['period', 'minute', 'shot_statsbomb_xg', 'team', 'player', 'shot_outcome', 'shot_type']]\n",
    "df.rename(columns = {'shot_statsbomb_xg':'xG', 'shot_outcome':'result'}, inplace = True)\n",
    "df.sort_values(by='team', inplace=True)\n",
    "df"
   ]
  },
  {
   "cell_type": "markdown",
   "metadata": {},
   "source": [
    "Get team names"
   ]
  },
  {
   "cell_type": "code",
   "execution_count": 4,
   "metadata": {},
   "outputs": [
    {
     "name": "stdout",
     "output_type": "stream",
     "text": [
      "Home Team : Poland\n",
      "Away Team : Spain\n"
     ]
    }
   ],
   "source": [
    "home_team = df['team'].iloc[0]\n",
    "away_team = df['team'].iloc[-1]\n",
    "print('Home Team : ' + home_team)\n",
    "print('Away Team : ' + away_team)"
   ]
  },
  {
   "cell_type": "markdown",
   "metadata": {},
   "source": [
    "Add element for better chart"
   ]
  },
  {
   "cell_type": "code",
   "execution_count": 5,
   "metadata": {},
   "outputs": [
    {
     "name": "stderr",
     "output_type": "stream",
     "text": [
      "/var/folders/_h/ljwht4gd7lb99rm1hm78h7_00000gn/T/ipykernel_49059/2472934798.py:19: FutureWarning: The frame.append method is deprecated and will be removed from pandas in a future version. Use pandas.concat instead.\n",
      "  df = df.append(new_row_home, ignore_index=True)\n",
      "/var/folders/_h/ljwht4gd7lb99rm1hm78h7_00000gn/T/ipykernel_49059/2472934798.py:20: FutureWarning: The frame.append method is deprecated and will be removed from pandas in a future version. Use pandas.concat instead.\n",
      "  df = df.append(new_row_away, ignore_index=True)\n"
     ]
    }
   ],
   "source": [
    "new_row_home = {'period':1, \n",
    "           'minute':0, \n",
    "           'xG':0.000001, \n",
    "           'team':home_team,\n",
    "           'player':'', \n",
    "           'result':'',\n",
    "           'shot_type':'Open Play'\n",
    "           }\n",
    "\n",
    "new_row_away = {'period':1, \n",
    "           'minute':0, \n",
    "           'xG':0.000001, \n",
    "           'team':away_team,\n",
    "           'player':'', \n",
    "           'result':'',\n",
    "           'shot_type':'Open Play'\n",
    "           }\n",
    "\n",
    "df = df.append(new_row_home, ignore_index=True)\n",
    "df = df.append(new_row_away, ignore_index=True)"
   ]
  },
  {
   "cell_type": "markdown",
   "metadata": {},
   "source": [
    "Cumulative Sum xG"
   ]
  },
  {
   "cell_type": "code",
   "execution_count": 6,
   "metadata": {},
   "outputs": [
    {
     "name": "stderr",
     "output_type": "stream",
     "text": [
      "/var/folders/_h/ljwht4gd7lb99rm1hm78h7_00000gn/T/ipykernel_49059/3182853901.py:2: SettingWithCopyWarning: \n",
      "A value is trying to be set on a copy of a slice from a DataFrame\n",
      "\n",
      "See the caveats in the documentation: https://pandas.pydata.org/pandas-docs/stable/user_guide/indexing.html#returning-a-view-versus-a-copy\n",
      "  home_df.sort_values(by='minute', inplace=True)\n",
      "/var/folders/_h/ljwht4gd7lb99rm1hm78h7_00000gn/T/ipykernel_49059/3182853901.py:3: SettingWithCopyWarning: \n",
      "A value is trying to be set on a copy of a slice from a DataFrame.\n",
      "Try using .loc[row_indexer,col_indexer] = value instead\n",
      "\n",
      "See the caveats in the documentation: https://pandas.pydata.org/pandas-docs/stable/user_guide/indexing.html#returning-a-view-versus-a-copy\n",
      "  home_df['h_cum'] = home_df['xG'].cumsum()\n",
      "/var/folders/_h/ljwht4gd7lb99rm1hm78h7_00000gn/T/ipykernel_49059/3182853901.py:6: SettingWithCopyWarning: \n",
      "A value is trying to be set on a copy of a slice from a DataFrame\n",
      "\n",
      "See the caveats in the documentation: https://pandas.pydata.org/pandas-docs/stable/user_guide/indexing.html#returning-a-view-versus-a-copy\n",
      "  away_df.sort_values(by='minute', inplace=True)\n",
      "/var/folders/_h/ljwht4gd7lb99rm1hm78h7_00000gn/T/ipykernel_49059/3182853901.py:7: SettingWithCopyWarning: \n",
      "A value is trying to be set on a copy of a slice from a DataFrame.\n",
      "Try using .loc[row_indexer,col_indexer] = value instead\n",
      "\n",
      "See the caveats in the documentation: https://pandas.pydata.org/pandas-docs/stable/user_guide/indexing.html#returning-a-view-versus-a-copy\n",
      "  away_df['a_cum'] = away_df['xG'].cumsum()\n"
     ]
    }
   ],
   "source": [
    "home_df = df[df['team'] == home_team]\n",
    "home_df.sort_values(by='minute', inplace=True)\n",
    "home_df['h_cum'] = home_df['xG'].cumsum()\n",
    "\n",
    "away_df = df[df['team'] == away_team]\n",
    "away_df.sort_values(by='minute', inplace=True)\n",
    "away_df['a_cum'] = away_df['xG'].cumsum()"
   ]
  },
  {
   "cell_type": "code",
   "execution_count": 7,
   "metadata": {},
   "outputs": [
    {
     "name": "stderr",
     "output_type": "stream",
     "text": [
      "/var/folders/_h/ljwht4gd7lb99rm1hm78h7_00000gn/T/ipykernel_49059/2558652882.py:2: SettingWithCopyWarning: \n",
      "A value is trying to be set on a copy of a slice from a DataFrame.\n",
      "Try using .loc[row_indexer,col_indexer] = value instead\n",
      "\n",
      "See the caveats in the documentation: https://pandas.pydata.org/pandas-docs/stable/user_guide/indexing.html#returning-a-view-versus-a-copy\n",
      "  home_goal[\"scorechart\"] = home_goal[\"minute\"].astype(str) + \"'\" + \" \" +home_goal[\"player\"] + \" (\" + home_goal[\"shot_type\"] + \")\"\n",
      "/var/folders/_h/ljwht4gd7lb99rm1hm78h7_00000gn/T/ipykernel_49059/2558652882.py:5: SettingWithCopyWarning: \n",
      "A value is trying to be set on a copy of a slice from a DataFrame.\n",
      "Try using .loc[row_indexer,col_indexer] = value instead\n",
      "\n",
      "See the caveats in the documentation: https://pandas.pydata.org/pandas-docs/stable/user_guide/indexing.html#returning-a-view-versus-a-copy\n",
      "  away_goal[\"scorechart\"] = away_goal[\"minute\"].astype(str) + \"'\" + \" \" +away_goal[\"player\"] + \" (\" + away_goal[\"shot_type\"] + \")\"\n"
     ]
    }
   ],
   "source": [
    "home_goal = home_df[home_df['result'].str.contains(\"Goal\")]\n",
    "home_goal[\"scorechart\"] = home_goal[\"minute\"].astype(str) + \"'\" + \" \" +home_goal[\"player\"] + \" (\" + home_goal[\"shot_type\"] + \")\"\n",
    "\n",
    "away_goal = away_df[away_df['result'].str.contains(\"Goal\")]\n",
    "away_goal[\"scorechart\"] = away_goal[\"minute\"].astype(str) + \"'\" + \" \" +away_goal[\"player\"] + \" (\" + away_goal[\"shot_type\"] + \")\""
   ]
  },
  {
   "cell_type": "markdown",
   "metadata": {},
   "source": [
    "Total xG "
   ]
  },
  {
   "cell_type": "code",
   "execution_count": 8,
   "metadata": {},
   "outputs": [],
   "source": [
    "home_total_xG = round(home_df['xG'].sum(),2).astype(str)\n",
    "away_total_xG = round(away_df['xG'].sum(),2).astype(str)"
   ]
  },
  {
   "cell_type": "markdown",
   "metadata": {},
   "source": [
    "Number od goals"
   ]
  },
  {
   "cell_type": "code",
   "execution_count": 9,
   "metadata": {},
   "outputs": [],
   "source": [
    "h_total_goals = str(len(home_goal))\n",
    "a_total_goals = str(len(away_goal))"
   ]
  },
  {
   "cell_type": "markdown",
   "metadata": {},
   "source": [
    "Create chart"
   ]
  },
  {
   "cell_type": "code",
   "execution_count": 10,
   "metadata": {},
   "outputs": [
    {
     "name": "stderr",
     "output_type": "stream",
     "text": [
      "/var/folders/_h/ljwht4gd7lb99rm1hm78h7_00000gn/T/ipykernel_49059/2037733642.py:13: FutureWarning: iteritems is deprecated and will be removed in a future version. Use .items instead.\n",
      "  for j, txt in home_goal['scorechart'].iteritems():\n",
      "/var/folders/_h/ljwht4gd7lb99rm1hm78h7_00000gn/T/ipykernel_49059/2037733642.py:23: FutureWarning: iteritems is deprecated and will be removed in a future version. Use .items instead.\n",
      "  for i, txt in away_goal['scorechart'].iteritems():\n"
     ]
    },
    {
     "data": {
      "image/png": "[encoded data removed]",
      "text/plain": [
       "<Figure size 1200x600 with 1 Axes>"
      ]
     },
     "metadata": {},
     "output_type": "display_data"
    }
   ],
   "source": [
    "fig, ax = plt.subplots(figsize=(12,6))\n",
    "\n",
    "# Create line plots\n",
    "ax.step(x = home_df['minute'], y = home_df['h_cum'], where = 'post', color ='#1EA8BD', label= home_team + \" (\" + home_total_xG + \" xG)\"  ,linewidth=2)  \n",
    "ax.step(x = away_df['minute'], y = away_df['a_cum'], where = 'post', color = '#8D1B3D', label= away_team + \" (\" + away_total_xG + \" xG)\" ,linewidth=2)\n",
    "\n",
    "# Create scatter plot for highlighting the goal\n",
    "ax.scatter(x= home_goal['minute'], y = home_goal['h_cum'] , marker= 'o', s= 100 ,color = '#1EA8BD')\n",
    "ax.scatter(x= away_goal['minute'], y = away_goal['a_cum'] , marker= 'o', s =100, color = '#8D1B3D')\n",
    "\n",
    "\n",
    "# Customize our chart\n",
    "for j, txt in home_goal['scorechart'].iteritems():\n",
    "    ax.annotate(txt, \n",
    "                (home_goal['minute'][j], home_goal['h_cum'][j]),\n",
    "                xycoords='data',\n",
    "                ha='center',\n",
    "                xytext=(-70, 40), \n",
    "                textcoords='offset points', \n",
    "                color='white',\n",
    "                arrowprops=dict(arrowstyle=\"->\",connectionstyle=\"arc,angleA=0,armA=50,rad=10\", color = 'white'))\n",
    "\n",
    "for i, txt in away_goal['scorechart'].iteritems():\n",
    "    ax.annotate(\n",
    "                txt, \n",
    "                (away_goal['minute'][i], away_goal['a_cum'][i]),\n",
    "                xycoords='data', \n",
    "                ha='center',\n",
    "                xytext=(-70, 40), \n",
    "                textcoords='offset points', \n",
    "                color='white',\n",
    "                arrowprops=dict(arrowstyle=\"->\",connectionstyle=\"arc,angleA=0,armA=50,rad=10\", color = 'white')\n",
    "                )\n",
    "\n",
    "\n",
    "\n",
    "\n",
    "# Axis\n",
    "plt.xticks([0,15,30,45,60,75,90])\n",
    "plt.yticks([0, 0.5, 1, 1.5, 2, 2.5, 3])\n",
    "plt.xlim(0)\n",
    "plt.ylim(-0.02)\n",
    "plt.grid()\n",
    "# color for axis\n",
    "ax.spines['top'].set_color('#B0B0B0')\n",
    "ax.spines['bottom'].set_color('#B0B0B0')\n",
    "ax.spines['right'].set_color('#B0B0B0')\n",
    "ax.spines['left'].set_color('#B0B0B0')\n",
    "\n",
    "ax.tick_params(axis='x', colors='white')\n",
    "ax.xaxis.label.set_color('white')\n",
    "ax.tick_params(axis='y', colors='white')\n",
    "ax.yaxis.label.set_color('white')\n",
    "\n",
    "# title\n",
    "ax.set_title(home_team + \" - \" + away_team + \" (\" + h_total_goals + \" - \" + a_total_goals + \")\",fontsize=18,fontweight=\"bold\", color = \"white\", pad=30, loc=\"left\")\n",
    "\n",
    "# legend\n",
    "legend = ax.legend(title = 'Total Expected Goals (xG)' ,loc='best', shadow=True, frameon=False, ncol=2,  labelcolor='linecolor', bbox_to_anchor=(0.9, 1.15))\n",
    "title = legend.get_title()\n",
    "title.set_color(\"white\")\n",
    "\n",
    "# background colors\n",
    "ax.set_facecolor(\"#22314E\")\n",
    "fig.patch.set_facecolor('#22314E')\n",
    "\n",
    "\n",
    "plt.ylabel(\"Expected Goals (xG)\", fontsize = 12, labelpad = 10)\n",
    "plt.xlabel(\"Minutes\", fontsize = 12, labelpad = 10)\n",
    "\n",
    "\n",
    "plt.savefig('Images/xGChart_Euro.png')"
   ]
  },
  {
   "cell_type": "markdown",
   "metadata": {},
   "source": [
    "Code from: [Python for Sports Data Science: How to Create an Expected Goals Chart](https://medium.com/@yogakrisanto1129/python-for-sports-data-science-how-to-create-an-expected-goals-chart-3157168a453a)"
   ]
  },
  {
   "cell_type": "markdown",
   "metadata": {},
   "source": [
    "Inne kolory"
   ]
  },
  {
   "cell_type": "code",
   "execution_count": 11,
   "metadata": {},
   "outputs": [
    {
     "name": "stderr",
     "output_type": "stream",
     "text": [
      "/var/folders/_h/ljwht4gd7lb99rm1hm78h7_00000gn/T/ipykernel_49059/858365311.py:15: FutureWarning: iteritems is deprecated and will be removed in a future version. Use .items instead.\n",
      "  for j, txt in home_goal['scorechart'].iteritems():\n",
      "/var/folders/_h/ljwht4gd7lb99rm1hm78h7_00000gn/T/ipykernel_49059/858365311.py:25: FutureWarning: iteritems is deprecated and will be removed in a future version. Use .items instead.\n",
      "  for i, txt in away_goal['scorechart'].iteritems():\n"
     ]
    },
    {
     "data": {
      "image/png": "[encoded data removed]",
      "text/plain": [
       "<Figure size 1200x600 with 1 Axes>"
      ]
     },
     "metadata": {},
     "output_type": "display_data"
    }
   ],
   "source": [
    "fig, ax = plt.subplots(figsize=(12,6))\n",
    "\n",
    "# Create line plots\n",
    "ax.step(x = home_df['minute'], y = home_df['h_cum'], where = 'post', color ='#8D1B3D', label= home_team + \" (\" + home_total_xG + \" xG)\"  ,linewidth=2)  \n",
    "ax.step(x = away_df['minute'], y = away_df['a_cum'], where = 'post', color = '#1EA8BD', label= away_team + \" (\" + away_total_xG + \" xG)\" ,linewidth=2)\n",
    "\n",
    "# Create scatter plot for highlighting the goal\n",
    "ax.scatter(x= home_goal['minute'], y = home_goal['h_cum'] , marker= 'o', s= 100 ,color = '#8D1B3D')\n",
    "ax.scatter(x= away_goal['minute'], y = away_goal['a_cum'] , marker= 'o', s =100, color = '#1EA8BD')\n",
    "\n",
    "#1EA8BD\n",
    "#8D1B3D\n",
    "\n",
    "# Customize our chart\n",
    "for j, txt in home_goal['scorechart'].iteritems():\n",
    "    ax.annotate(txt, \n",
    "                (home_goal['minute'][j], home_goal['h_cum'][j]),\n",
    "                xycoords='data',\n",
    "                ha='center',\n",
    "                xytext=(-70, 40), \n",
    "                textcoords='offset points', \n",
    "                color='white',\n",
    "                arrowprops=dict(arrowstyle=\"->\",connectionstyle=\"arc,angleA=0,armA=50,rad=10\", color = 'white'))\n",
    "\n",
    "for i, txt in away_goal['scorechart'].iteritems():\n",
    "    ax.annotate(\n",
    "                txt, \n",
    "                (away_goal['minute'][i], away_goal['a_cum'][i]),\n",
    "                xycoords='data', \n",
    "                ha='center',\n",
    "                xytext=(-70, 40), \n",
    "                textcoords='offset points', \n",
    "                color='white',\n",
    "                arrowprops=dict(arrowstyle=\"->\",connectionstyle=\"arc,angleA=0,armA=50,rad=10\", color = 'white')\n",
    "                )\n",
    "\n",
    "\n",
    "\n",
    "\n",
    "# Axis\n",
    "plt.xticks([0,15,30,45,60,75,90])\n",
    "plt.yticks([0, 0.5, 1, 1.5, 2, 2.5, 3])\n",
    "plt.xlim(0)\n",
    "plt.ylim(-0.02)\n",
    "plt.grid()\n",
    "# color for axis\n",
    "ax.spines['top'].set_color('#B0B0B0')\n",
    "ax.spines['bottom'].set_color('#B0B0B0')\n",
    "ax.spines['right'].set_color('#B0B0B0')\n",
    "ax.spines['left'].set_color('#B0B0B0')\n",
    "\n",
    "ax.tick_params(axis='x', colors='white')\n",
    "ax.xaxis.label.set_color('white')\n",
    "ax.tick_params(axis='y', colors='white')\n",
    "ax.yaxis.label.set_color('white')\n",
    "\n",
    "# title\n",
    "ax.set_title(home_team + \" - \" + away_team + \" (\" + h_total_goals + \" - \" + a_total_goals + \")\",fontsize=18,fontweight=\"bold\", color = \"white\", pad=30, loc=\"left\")\n",
    "\n",
    "# legend\n",
    "legend = ax.legend(title = 'Total Expected Goals (xG)' ,loc='best', shadow=True, frameon=False, ncol=2,  labelcolor='white', bbox_to_anchor=(0.9, 1.15))\n",
    "title = legend.get_title()\n",
    "title.set_color(\"white\")\n",
    "\n",
    "# background colors\n",
    "ax.set_facecolor(\"#22314E\")\n",
    "fig.patch.set_facecolor('#22314E')\n",
    "\n",
    "\n",
    "plt.ylabel(\"Expected Goals (xG)\", fontsize = 12, labelpad = 10)\n",
    "plt.xlabel(\"Minutes\", fontsize = 12, labelpad = 10)\n",
    "\n",
    "\n",
    "plt.savefig('Images/xGChart_Euro.png')"
   ]
  }
 ],
 "metadata": {
  "kernelspec": {
   "display_name": "Python 3",
   "language": "python",
   "name": "python3"
  },
  "language_info": {
   "codemirror_mode": {
    "name": "ipython",
    "version": 3
   },
   "file_extension": ".py",
   "mimetype": "text/x-python",
   "name": "python",
   "nbconvert_exporter": "python",
   "pygments_lexer": "ipython3",
   "version": "3.10.13"
  }
 },
 "nbformat": 4,
 "nbformat_minor": 2
}
