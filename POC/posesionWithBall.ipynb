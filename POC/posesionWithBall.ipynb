{
 "cells": [
  {
   "cell_type": "code",
   "execution_count": 1,
   "metadata": {},
   "outputs": [],
   "source": [
    "from mplsoccer import Pitch, FontManager, Sbopen, VerticalPitch\n",
    "import numpy as np\n",
    "from matplotlib.colors import to_rgba\n",
    "import pandas as pd\n",
    "from matplotlib import pyplot as plt"
   ]
  },
  {
   "cell_type": "code",
   "execution_count": 2,
   "metadata": {},
   "outputs": [],
   "source": [
    "# Spain vs Poland\n",
    "MATCH_ID = 3788762\n",
    "TEAM = 'Poland'\n",
    "parser = Sbopen()\n",
    "events, related, freeze, players = parser.event(MATCH_ID)"
   ]
  },
  {
   "cell_type": "code",
   "execution_count": 6,
   "metadata": {},
   "outputs": [
    {
     "data": {
      "text/plain": [
       "Index(['id', 'index', 'period', 'timestamp', 'minute', 'second', 'possession',\n",
       "       'duration', 'match_id', 'type_id', 'type_name', 'possession_team_id',\n",
       "       'possession_team_name', 'play_pattern_id', 'play_pattern_name',\n",
       "       'team_id', 'team_name', 'tactics_formation', 'player_id', 'player_name',\n",
       "       'position_id', 'position_name', 'pass_recipient_id',\n",
       "       'pass_recipient_name', 'pass_length', 'pass_angle', 'pass_height_id',\n",
       "       'pass_height_name', 'end_x', 'end_y', 'sub_type_id', 'sub_type_name',\n",
       "       'body_part_id', 'body_part_name', 'x', 'y', 'outcome_id',\n",
       "       'outcome_name', 'out', 'under_pressure',\n",
       "       'ball_recovery_recovery_failure', 'pass_deflected', 'aerial_won',\n",
       "       'counterpress', 'pass_switch', 'off_camera', 'foul_won_defensive',\n",
       "       'shot_statsbomb_xg', 'end_z', 'technique_id', 'technique_name',\n",
       "       'goalkeeper_position_id', 'goalkeeper_position_name', 'pass_cross',\n",
       "       'pass_cut_back', 'pass_assisted_shot_id', 'pass_shot_assist',\n",
       "       'shot_key_pass_id', 'block_offensive', 'shot_first_time',\n",
       "       'dribble_nutmeg', 'pass_no_touch', 'block_deflection',\n",
       "       'foul_committed_card_id', 'foul_committed_card_name',\n",
       "       'foul_committed_offensive', 'foul_committed_advantage',\n",
       "       'foul_won_advantage', 'pass_goal_assist', 'substitution_replacement_id',\n",
       "       'substitution_replacement_name', 'foul_committed_penalty',\n",
       "       'foul_won_penalty', 'shot_one_on_one', 'shot_deflected'],\n",
       "      dtype='object')"
      ]
     },
     "execution_count": 6,
     "metadata": {},
     "output_type": "execute_result"
    }
   ],
   "source": [
    "events.columns"
   ]
  },
  {
   "cell_type": "code",
   "execution_count": 7,
   "metadata": {},
   "outputs": [
    {
     "data": {
      "text/plain": [
       "type_name\n",
       "Ball Receipt         [131decb1-6673-4d38-b9d8-17744d4d7c92, bd96c81...\n",
       "Ball Recovery        [d399b421-01a3-4808-b01d-d6a2a070f03a, ebedd46...\n",
       "Block                [8a9d7d80-7075-4af7-9444-ded43f5cba41, 160fba0...\n",
       "Carry                [f93912a1-9dd9-41f3-a7d2-a3f1ffd4584e, 1420e27...\n",
       "Clearance            [271ea3e2-8e41-45d4-9de5-d722fc40a413, 1a801d3...\n",
       "Dispossessed         [57c6e562-a748-4b56-9a28-c4d68a35d8de, 1694703...\n",
       "Dribble              [4ea55b4d-4488-4645-86ca-1677ef1324a6, 02acc17...\n",
       "Dribbled Past        [dc026c40-111e-4289-95b7-c7228f2e4d6b, 4e6dbcf...\n",
       "Duel                 [a3f7d238-f87d-417b-a844-05a334151621, 273c594...\n",
       "Error                           [d534c33f-d7b3-4972-b16a-b921d68456c5]\n",
       "Foul Committed       [2c6fd056-5095-4507-86b7-7c13d9c90acb, 358ba49...\n",
       "Foul Won             [228c5124-53ec-40f0-b010-7373be42754f, 6c9e12d...\n",
       "Goal Keeper          [0eddac9e-a1b3-46a4-b506-a3e9a6eff725, af65f17...\n",
       "Half End             [50b33666-949c-49ed-9836-ddd7cd3aeffc, 39c00cd...\n",
       "Half Start           [3729d2d7-b171-4b5d-99f5-e66118b4eb8c, 52bb380...\n",
       "Interception         [cd9b455c-817b-4283-9b1a-ebb80a697c89, 614d256...\n",
       "Miscontrol           [e39c4d60-c9f1-44e5-be02-63be0563f9ce, 6dee3d0...\n",
       "Pass                 [45b27e4b-eae8-4c74-8ac1-d8cd1b53e0bb, 14eae7d...\n",
       "Pressure             [d9a804f0-f0dc-4651-9916-f1f91f41ac9b, 37c7ff9...\n",
       "Referee Ball-Drop    [72b69e7f-033f-4cdb-91d4-2df63837d852, 93faa40...\n",
       "Shot                 [59ab0c2f-65b0-4e7a-ac7a-8aeac3fd3987, e6fbdeb...\n",
       "Starting XI          [79d195f9-b5aa-40a7-9258-f0c6a2e779f4, 22879fa...\n",
       "Substitution         [ad5bc3f0-1a8d-4c98-af73-a1e9d58b2f82, 555529e...\n",
       "Tactical Shift       [38b1430c-1126-4aa0-9b12-6d7017d0fe74, 9eee969...\n",
       "Name: id, dtype: object"
      ]
     },
     "execution_count": 7,
     "metadata": {},
     "output_type": "execute_result"
    }
   ],
   "source": [
    "events.groupby('type_name').id.unique()"
   ]
  },
  {
   "cell_type": "code",
   "execution_count": 8,
   "metadata": {},
   "outputs": [],
   "source": [
    "events.loc[events.tactics_formation.notnull(), 'tactics_id'] = events.loc[events.tactics_formation.notnull(), 'id']\n",
    "events[['tactics_id', 'tactics_formation']] = events.groupby('team_name')[['tactics_id', 'tactics_formation']].ffill()"
   ]
  },
  {
   "cell_type": "code",
   "execution_count": 10,
   "metadata": {},
   "outputs": [],
   "source": [
    "formation_dict = {1: 'GK', 2: 'RB', 3: 'RCB', 4: 'CB', 5: 'LCB', 6: 'LB', 7: 'RWB',\n",
    "                  8: 'LWB', 9: 'RDM', 10: 'CDM', 11: 'LDM', 12: 'RM', 13: 'RCM',\n",
    "                  14: 'CM', 15: 'LCM', 16: 'LM', 17: 'RW', 18: 'RAM', 19: 'CAM',\n",
    "                  20: 'LAM', 21: 'LW', 22: 'RCF', 23: 'ST', 24: 'LCF', 25: 'SS'}\n",
    "players['position_abbreviation'] = players.position_id.map(formation_dict)"
   ]
  },
  {
   "cell_type": "code",
   "execution_count": 11,
   "metadata": {},
   "outputs": [],
   "source": [
    "sub = events.loc[events.type_name == 'Substitution',\n",
    "                 ['tactics_id', 'player_id', 'substitution_replacement_id',\n",
    "                  'substitution_replacement_name']]\n",
    "players_sub = players.merge(sub.rename({'tactics_id': 'id'}, axis='columns'),\n",
    "                            on=['id', 'player_id'], how='inner', validate='1:1')\n",
    "players_sub = (players_sub[['id', 'substitution_replacement_id', 'position_abbreviation']]\n",
    "               .rename({'substitution_replacement_id': 'player_id'}, axis='columns'))\n",
    "players = pd.concat([players, players_sub])\n",
    "players.rename({'id': 'tactics_id'}, axis='columns', inplace=True)\n",
    "players = players[['tactics_id', 'player_id', 'position_abbreviation']]"
   ]
  },
  {
   "cell_type": "code",
   "execution_count": 12,
   "metadata": {},
   "outputs": [],
   "source": [
    "# add on the position the player was playing in the formation to the events dataframe\n",
    "events = events.merge(players, on=['tactics_id', 'player_id'], how='left', validate='m:1')\n",
    "# add on the position the receipient was playing in the formation to the events dataframe\n",
    "events = events.merge(players.rename({'player_id': 'pass_recipient_id'},\n",
    "                                    axis='columns'), \n",
    "                                    on=['tactics_id', 'pass_recipient_id'],\n",
    "                                    how='left', \n",
    "                                    validate='m:1', \n",
    "                                    suffixes=['', '_receipt'])\n",
    "\n",
    "events['tactics_formation'] = events['tactics_formation'].astype(int)"
   ]
  },
  {
   "cell_type": "code",
   "execution_count": 13,
   "metadata": {},
   "outputs": [
    {
     "data": {
      "text/plain": [
       "team_name\n",
       "Poland    [352, 343]\n",
       "Spain          [433]\n",
       "Name: tactics_formation, dtype: object"
      ]
     },
     "execution_count": 13,
     "metadata": {},
     "output_type": "execute_result"
    }
   ],
   "source": [
    "events.groupby('team_name').tactics_formation.unique()"
   ]
  },
  {
   "cell_type": "code",
   "execution_count": 19,
   "metadata": {},
   "outputs": [],
   "source": [
    "FORMATION = 352\n",
    "pass_cols = ['id', 'position_abbreviation', 'position_abbreviation_receipt']\n",
    "passes_formation = events.loc[(events.team_name == TEAM) & (events.type_name == 'Pass') & #(events.type_name == 'Dribble') & (events.type_name == 'Shot') &\n",
    "                              (events.tactics_formation == FORMATION) &\n",
    "                              (events.position_abbreviation_receipt.notnull()), pass_cols].copy()\n",
    "location_cols = ['position_abbreviation', 'x', 'y']\n",
    "location_formation = events.loc[(events.team_name == TEAM) &\n",
    "                                (events.type_name.isin(['Pass', 'Ball Receipt'])) &\n",
    "                                (events.tactics_formation == FORMATION), location_cols].copy()\n",
    "\n",
    "\n"
   ]
  },
  {
   "cell_type": "code",
   "execution_count": 21,
   "metadata": {},
   "outputs": [
    {
     "data": {
      "text/plain": [
       "Index(['id', 'index', 'period', 'timestamp', 'minute', 'second', 'possession',\n",
       "       'duration', 'match_id', 'type_id', 'type_name', 'possession_team_id',\n",
       "       'possession_team_name', 'play_pattern_id', 'play_pattern_name',\n",
       "       'team_id', 'team_name', 'tactics_formation', 'player_id', 'player_name',\n",
       "       'position_id', 'position_name', 'pass_recipient_id',\n",
       "       'pass_recipient_name', 'pass_length', 'pass_angle', 'pass_height_id',\n",
       "       'pass_height_name', 'end_x', 'end_y', 'sub_type_id', 'sub_type_name',\n",
       "       'body_part_id', 'body_part_name', 'x', 'y', 'outcome_id',\n",
       "       'outcome_name', 'out', 'under_pressure',\n",
       "       'ball_recovery_recovery_failure', 'pass_deflected', 'aerial_won',\n",
       "       'counterpress', 'pass_switch', 'off_camera', 'foul_won_defensive',\n",
       "       'shot_statsbomb_xg', 'end_z', 'technique_id', 'technique_name',\n",
       "       'goalkeeper_position_id', 'goalkeeper_position_name', 'pass_cross',\n",
       "       'pass_cut_back', 'pass_assisted_shot_id', 'pass_shot_assist',\n",
       "       'shot_key_pass_id', 'block_offensive', 'shot_first_time',\n",
       "       'dribble_nutmeg', 'pass_no_touch', 'block_deflection',\n",
       "       'foul_committed_card_id', 'foul_committed_card_name',\n",
       "       'foul_committed_offensive', 'foul_committed_advantage',\n",
       "       'foul_won_advantage', 'pass_goal_assist', 'substitution_replacement_id',\n",
       "       'substitution_replacement_name', 'foul_committed_penalty',\n",
       "       'foul_won_penalty', 'shot_one_on_one', 'shot_deflected', 'tactics_id',\n",
       "       'position_abbreviation', 'position_abbreviation_receipt'],\n",
       "      dtype='object')"
      ]
     },
     "execution_count": 21,
     "metadata": {},
     "output_type": "execute_result"
    }
   ],
   "source": [
    "events.columns"
   ]
  },
  {
   "cell_type": "code",
   "execution_count": 20,
   "metadata": {},
   "outputs": [
    {
     "data": {
      "text/html": [
       "<div>\n",
       "<style scoped>\n",
       "    .dataframe tbody tr th:only-of-type {\n",
       "        vertical-align: middle;\n",
       "    }\n",
       "\n",
       "    .dataframe tbody tr th {\n",
       "        vertical-align: top;\n",
       "    }\n",
       "\n",
       "    .dataframe thead th {\n",
       "        text-align: right;\n",
       "    }\n",
       "</style>\n",
       "<table border=\"1\" class=\"dataframe\">\n",
       "  <thead>\n",
       "    <tr style=\"text-align: right;\">\n",
       "      <th></th>\n",
       "      <th>id</th>\n",
       "      <th>position_abbreviation</th>\n",
       "      <th>position_abbreviation_receipt</th>\n",
       "    </tr>\n",
       "  </thead>\n",
       "  <tbody>\n",
       "    <tr>\n",
       "      <th>4</th>\n",
       "      <td>45b27e4b-eae8-4c74-8ac1-d8cd1b53e0bb</td>\n",
       "      <td>CDM</td>\n",
       "      <td>LCM</td>\n",
       "    </tr>\n",
       "    <tr>\n",
       "      <th>7</th>\n",
       "      <td>14eae7de-09ab-44c8-abfa-dee73a95f0fc</td>\n",
       "      <td>LCM</td>\n",
       "      <td>RCF</td>\n",
       "    </tr>\n",
       "    <tr>\n",
       "      <th>11</th>\n",
       "      <td>09e0d59c-6eb3-4440-84ac-40c6114a5f59</td>\n",
       "      <td>RWB</td>\n",
       "      <td>CDM</td>\n",
       "    </tr>\n",
       "    <tr>\n",
       "      <th>14</th>\n",
       "      <td>d6c2ce83-69ea-4e79-8bac-ebfe225c1a82</td>\n",
       "      <td>CDM</td>\n",
       "      <td>RWB</td>\n",
       "    </tr>\n",
       "    <tr>\n",
       "      <th>17</th>\n",
       "      <td>e31ab7dd-d4a9-4116-ae0a-4cfe1d48050e</td>\n",
       "      <td>RWB</td>\n",
       "      <td>CDM</td>\n",
       "    </tr>\n",
       "    <tr>\n",
       "      <th>...</th>\n",
       "      <td>...</td>\n",
       "      <td>...</td>\n",
       "      <td>...</td>\n",
       "    </tr>\n",
       "    <tr>\n",
       "      <th>2470</th>\n",
       "      <td>faebf7d2-1ddd-49ce-936e-f99e091e9011</td>\n",
       "      <td>LCB</td>\n",
       "      <td>GK</td>\n",
       "    </tr>\n",
       "    <tr>\n",
       "      <th>2497</th>\n",
       "      <td>74de4a94-634f-442a-8898-a206ac3f05f1</td>\n",
       "      <td>RWB</td>\n",
       "      <td>CDM</td>\n",
       "    </tr>\n",
       "    <tr>\n",
       "      <th>2501</th>\n",
       "      <td>aef9ea42-402b-4446-a527-bdb38b900976</td>\n",
       "      <td>CDM</td>\n",
       "      <td>RWB</td>\n",
       "    </tr>\n",
       "    <tr>\n",
       "      <th>2512</th>\n",
       "      <td>6d4b2548-f365-4fd6-bd10-841e88a2d194</td>\n",
       "      <td>LWB</td>\n",
       "      <td>CDM</td>\n",
       "    </tr>\n",
       "    <tr>\n",
       "      <th>2520</th>\n",
       "      <td>356d244d-a2d3-482c-8426-3c33fb74b181</td>\n",
       "      <td>LCM</td>\n",
       "      <td>LCF</td>\n",
       "    </tr>\n",
       "  </tbody>\n",
       "</table>\n",
       "<p>149 rows × 3 columns</p>\n",
       "</div>"
      ],
      "text/plain": [
       "                                        id position_abbreviation  \\\n",
       "4     45b27e4b-eae8-4c74-8ac1-d8cd1b53e0bb                   CDM   \n",
       "7     14eae7de-09ab-44c8-abfa-dee73a95f0fc                   LCM   \n",
       "11    09e0d59c-6eb3-4440-84ac-40c6114a5f59                   RWB   \n",
       "14    d6c2ce83-69ea-4e79-8bac-ebfe225c1a82                   CDM   \n",
       "17    e31ab7dd-d4a9-4116-ae0a-4cfe1d48050e                   RWB   \n",
       "...                                    ...                   ...   \n",
       "2470  faebf7d2-1ddd-49ce-936e-f99e091e9011                   LCB   \n",
       "2497  74de4a94-634f-442a-8898-a206ac3f05f1                   RWB   \n",
       "2501  aef9ea42-402b-4446-a527-bdb38b900976                   CDM   \n",
       "2512  6d4b2548-f365-4fd6-bd10-841e88a2d194                   LWB   \n",
       "2520  356d244d-a2d3-482c-8426-3c33fb74b181                   LCM   \n",
       "\n",
       "     position_abbreviation_receipt  \n",
       "4                              LCM  \n",
       "7                              RCF  \n",
       "11                             CDM  \n",
       "14                             RWB  \n",
       "17                             CDM  \n",
       "...                            ...  \n",
       "2470                            GK  \n",
       "2497                           CDM  \n",
       "2501                           RWB  \n",
       "2512                           CDM  \n",
       "2520                           LCF  \n",
       "\n",
       "[149 rows x 3 columns]"
      ]
     },
     "execution_count": 20,
     "metadata": {},
     "output_type": "execute_result"
    }
   ],
   "source": [
    "passes_formation"
   ]
  }
 ],
 "metadata": {
  "kernelspec": {
   "display_name": "Python 3",
   "language": "python",
   "name": "python3"
  },
  "language_info": {
   "codemirror_mode": {
    "name": "ipython",
    "version": 3
   },
   "file_extension": ".py",
   "mimetype": "text/x-python",
   "name": "python",
   "nbconvert_exporter": "python",
   "pygments_lexer": "ipython3",
   "version": "3.10.13"
  }
 },
 "nbformat": 4,
 "nbformat_minor": 2
}
