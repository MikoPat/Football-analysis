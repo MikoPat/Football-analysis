{
 "cells": [
  {
   "cell_type": "code",
   "execution_count": 1,
   "metadata": {},
   "outputs": [],
   "source": [
    "import pandas as pd\n",
    "from statsbombpy import sb\n",
    "from mplsoccer import Pitch\n",
    "from mplsoccer import VerticalPitch, add_image, FontManager, Sbopen\n",
    "from matplotlib import pyplot as plt"
   ]
  },
  {
   "cell_type": "code",
   "execution_count": 2,
   "metadata": {},
   "outputs": [],
   "source": [
    "# Spain vs Poland\n",
    "MATCH_ID = 3788762\n",
    "TEAM = 'Poland'\n",
    "parser = Sbopen()\n",
    "event, related, freeze, tactics = parser.event(MATCH_ID)"
   ]
  },
  {
   "cell_type": "code",
   "execution_count": 10,
   "metadata": {},
   "outputs": [],
   "source": [
    "# starting players from Barcelona\n",
    "starting_xi_event = event.loc[((event['type_name'] == 'Starting XI') &\n",
    "                               (event['team_name'] == 'Barcelona')), ['id', 'tactics_formation']]\n",
    "# joining on the team name and formation to the lineup\n",
    "starting_xi = tactics.merge(starting_xi_event, on='id')\n",
    "\n",
    "#starting_xi['player_name'] = starting_xi['player_name']\n",
    "formation = event['tactics_formation'].iloc[0].astype(int).astype(str)\n",
    "\n"
   ]
  },
  {
   "cell_type": "code",
   "execution_count": 11,
   "metadata": {},
   "outputs": [
    {
     "data": {
      "text/plain": [
       "'433'"
      ]
     },
     "execution_count": 11,
     "metadata": {},
     "output_type": "execute_result"
    }
   ],
   "source": [
    "formation"
   ]
  },
  {
   "cell_type": "code",
   "execution_count": 15,
   "metadata": {},
   "outputs": [],
   "source": [
    "# pomysł 2: wykorzystać podobną strukturę co w passNetwork, to nizej to inne rozwiązanie"
   ]
  },
  {
   "cell_type": "code",
   "execution_count": 16,
   "metadata": {},
   "outputs": [
    {
     "data": {
      "image/png": "[encoded data removed]",
      "text/plain": [
       "<Figure size 440x640 with 1 Axes>"
      ]
     },
     "metadata": {},
     "output_type": "display_data"
    }
   ],
   "source": [
    "pitch = VerticalPitch(line_alpha=0.5, goal_type='box', goal_alpha=0.5, pitch_color= '#22314E')\n",
    "fig, ax = pitch.draw(ncols=1, figsize=(4.4, 6.4))\n",
    "#sc_full = pitch.formation(442, positions=starting_xi.position_id, c='#053e7a', ax=ax[0])\n",
    "fig.set_facecolor('#22314E')\n",
    "\n",
    "x = [23]\n",
    "y = [40]\n",
    "plt.plot(x, y, marker=\"o\", markersize=20, markerfacecolor=\"#1EA8BD\",markeredgecolor=\"#1EA8BD\")\n",
    "plt.show()\n"
   ]
  }
 ],
 "metadata": {
  "kernelspec": {
   "display_name": "Python 3",
   "language": "python",
   "name": "python3"
  },
  "language_info": {
   "codemirror_mode": {
    "name": "ipython",
    "version": 3
   },
   "file_extension": ".py",
   "mimetype": "text/x-python",
   "name": "python",
   "nbconvert_exporter": "python",
   "pygments_lexer": "ipython3",
   "version": "3.10.13"
  }
 },
 "nbformat": 4,
 "nbformat_minor": 2
}
